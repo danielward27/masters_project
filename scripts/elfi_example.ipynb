{
 "cells": [
  {
   "cell_type": "markdown",
   "metadata": {},
   "source": [
    "### Imports and cluster environment"
   ]
  },
  {
   "cell_type": "code",
   "execution_count": 1,
   "metadata": {},
   "outputs": [],
   "source": [
    "import time\n",
    "import pandas as pd\n",
    "import sim\n",
    "from sim.model import SeqFeatures, WildcatSimulation, tree_summary\n",
    "from sim import sum_stats as ss\n",
    "import tskit\n",
    "import allel\n",
    "import numpy as np\n",
    "import matplotlib\n",
    "import matplotlib.pyplot as plt\n",
    "import seaborn as sns\n",
    "import elfi\n",
    "import scipy.stats\n"
   ]
  },
  {
   "cell_type": "markdown",
   "metadata": {},
   "source": [
    "### Create pseudo-observed data"
   ]
  },
  {
   "cell_type": "code",
   "execution_count": 2,
   "metadata": {},
   "outputs": [],
   "source": [
    "y_obs = sim.model.run_sim(length=int(5e6),\n",
    "            recombination_rate=1.8e-8,\n",
    "            mutation_rate=6e-8,\n",
    "            pop_size_domestic_1=50,\n",
    "            pop_size_wild_1=50,\n",
    "            pop_size_captive=50,\n",
    "            captive_time=20,\n",
    "            mig_rate_captive=0.01,\n",
    "            mig_length_wild=20,\n",
    "            mig_rate_wild=0.01,\n",
    "            pop_size_domestic_2=200,\n",
    "            pop_size_wild_2=200,\n",
    "            div_time=30000,\n",
    "            mig_rate_post_split=0.1,\n",
    "            mig_length_post_split=5000,\n",
    "            bottleneck_time_wild=3000,\n",
    "            bottleneck_strength_wild=10000,\n",
    "            bottleneck_time_domestic=3000,\n",
    "            bottleneck_strength_domestic=10000,\n",
    "            random_state=np.random.RandomState(3),\n",
    "            )"
   ]
  },
  {
   "cell_type": "code",
   "execution_count": 3,
   "metadata": {
    "jupyter": {
     "source_hidden": true
    }
   },
   "outputs": [],
   "source": [
    "y_obs = sim.model.run_sim(length=int(5e6),\n",
    "            recombination_rate=1.8e-8,\n",
    "            mutation_rate=6e-8,\n",
    "            pop_size_domestic_1=50,\n",
    "            pop_size_wild_1=50,\n",
    "            pop_size_captive=50,\n",
    "            captive_time=20,\n",
    "            mig_rate_captive=0.01,\n",
    "            mig_length_wild=20,\n",
    "            mig_rate_wild=0.01,\n",
    "            pop_size_domestic_2=200,\n",
    "            pop_size_wild_2=200,\n",
    "            div_time=30000,\n",
    "            mig_rate_post_split=0.1,\n",
    "            mig_length_post_split=5000,\n",
    "            bottleneck_time_wild=3000,\n",
    "            bottleneck_strength_wild=10000,\n",
    "            bottleneck_time_domestic=3000,\n",
    "            bottleneck_strength_domestic=10000,\n",
    "            random_state=np.random.RandomState(3),\n",
    "            )\n",
    "y_obs = np.array(y_obs)"
   ]
  },
  {
   "cell_type": "markdown",
   "metadata": {},
   "source": [
    "### Set up prior and constants"
   ]
  },
  {
   "cell_type": "code",
   "execution_count": 4,
   "metadata": {},
   "outputs": [],
   "source": [
    "length = elfi.Constant(int(5e6))\n",
    "recombination_rate = elfi.Constant(1.8e-8)\n",
    "mutation_rate = elfi.Constant(6e-8)\n",
    "pop_size_domestic_1 = elfi.Prior(scipy.stats.uniform, 100, 10000-100)  # scipy.stats.uniform(100, 15000),\n",
    "pop_size_wild_1 = elfi.Prior(scipy.stats.lognorm, 0.4, 0, np.exp(8))  # scipy.stats.lognorm(0.4, scale=np.exp(8.5)),\n",
    "pop_size_captive = elfi.Prior(scipy.stats.lognorm, 0.3, 0, np.exp(4.5))\n",
    "mig_rate_captive = elfi.Prior(scipy.stats.beta, 1.2, 40)\n",
    "captive_time = elfi.Prior(scipy.stats.lognorm, 0.7, 0, np.exp(3))\n",
    "mig_length_wild = elfi.Prior(scipy.stats.lognorm, 0.7, 0, np.exp(3))\n",
    "mig_rate_wild = elfi.Prior(scipy.stats.beta(2, 50))              \n",
    "pop_size_domestic_2 = elfi.Prior(scipy.stats.uniform, 1000, 20000-1000)  # scipy.stats.uniform(1000, 25000),\n",
    "pop_size_wild_2 = elfi.Prior(scipy.stats.lognorm, 0.2, 0, np.exp(8.8))  # scipy.stats.lognorm(0.2, scale=np.exp(9.2)),\n",
    "bottleneck_strength_domestic = elfi.Prior(scipy.stats.uniform, 0, 40000-0)\n",
    "bottleneck_time_domestic = elfi.Prior(scipy.stats.norm, 3500, 600)\n",
    "bottleneck_strength_wild = elfi.Prior(scipy.stats.uniform, 0, 40000-0)\n",
    "bottleneck_time_wild = elfi.Prior(scipy.stats.norm, 3500, 600)\n",
    "mig_length_post_split = elfi.Prior(scipy.stats.uniform, 0, 10000-0)\n",
    "mig_rate_post_split = elfi.Prior(scipy.stats.truncnorm, 0, 1, 0, 0.1)\n",
    "div_time = elfi.Prior(scipy.stats.norm, 40000, 5000)"
   ]
  },
  {
   "cell_type": "markdown",
   "metadata": {},
   "source": [
    "### Initiate simulator node"
   ]
  },
  {
   "cell_type": "code",
   "execution_count": 5,
   "metadata": {},
   "outputs": [],
   "source": [
    "y = elfi.Simulator(sim.model.run_sim_vec,\n",
    "                   length, recombination_rate, mutation_rate, pop_size_domestic_1, pop_size_wild_1,\n",
    "                   pop_size_captive, mig_rate_captive, mig_length_wild, mig_rate_wild,\n",
    "                   captive_time, pop_size_domestic_2, pop_size_wild_2, div_time, mig_rate_post_split,\n",
    "                   mig_length_post_split, bottleneck_time_wild, bottleneck_strength_wild,\n",
    "                   bottleneck_time_domestic, bottleneck_strength_domestic, name=\"simulator\", observed=y_obs)"
   ]
  },
  {
   "cell_type": "code",
   "execution_count": 8,
   "metadata": {},
   "outputs": [],
   "source": [
    "s = elfi.Summary(ss.elfi_summary, y)"
   ]
  },
  {
   "cell_type": "code",
   "execution_count": 9,
   "metadata": {},
   "outputs": [],
   "source": [
    "test_y = y.generate(3)\n",
    "test_s = s.generate(3)"
   ]
  },
  {
   "cell_type": "code",
   "execution_count": 14,
   "metadata": {},
   "outputs": [
    {
     "name": "stdout",
     "output_type": "stream",
     "text": [
      "(1, 3)\n",
      "(3, 102)\n"
     ]
    }
   ],
   "source": [
    "print(test_y.shape)\n",
    "print(test_s.shape)"
   ]
  },
  {
   "cell_type": "code",
   "execution_count": 12,
   "metadata": {},
   "outputs": [],
   "source": [
    "d = elfi.Distance('euclidean', s, name=\"Euclidean distance\")"
   ]
  },
  {
   "cell_type": "code",
   "execution_count": 10,
   "metadata": {},
   "outputs": [
    {
     "ename": "NameError",
     "evalue": "name 'd' is not defined",
     "output_type": "error",
     "traceback": [
      "\u001b[1;31m---------------------------------------------------------------------------\u001b[0m",
      "\u001b[1;31mNameError\u001b[0m                                 Traceback (most recent call last)",
      "\u001b[1;32m<timed exec>\u001b[0m in \u001b[0;36m<module>\u001b[1;34m\u001b[0m\n",
      "\u001b[1;31mNameError\u001b[0m: name 'd' is not defined"
     ]
    }
   ],
   "source": [
    "%%time\n",
    "rej = elfi.Rejection(d, batch_size=100, seed=1)"
   ]
  },
  {
   "cell_type": "code",
   "execution_count": null,
   "metadata": {},
   "outputs": [],
   "source": [
    "# elfi.draw(d)"
   ]
  },
  {
   "cell_type": "code",
   "execution_count": null,
   "metadata": {},
   "outputs": [],
   "source": [
    "%%time\n",
    "rej.sample(5, threshold=0.5)"
   ]
  }
 ],
 "metadata": {
  "kernelspec": {
   "display_name": "Python 3",
   "language": "python",
   "name": "python3"
  },
  "language_info": {
   "codemirror_mode": {
    "name": "ipython",
    "version": 3
   },
   "file_extension": ".py",
   "mimetype": "text/x-python",
   "name": "python",
   "nbconvert_exporter": "python",
   "pygments_lexer": "ipython3",
   "version": "3.7.7"
  }
 },
 "nbformat": 4,
 "nbformat_minor": 4
}
