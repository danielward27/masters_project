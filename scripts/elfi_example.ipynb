{
 "cells": [
  {
   "cell_type": "markdown",
   "metadata": {},
   "source": [
    "### Imports and cluster environment"
   ]
  },
  {
   "cell_type": "code",
   "execution_count": null,
   "metadata": {},
   "outputs": [],
   "source": [
    "import multiprocessing\n",
    "import pandas as pd\n",
    "from sim.model import elfi_sim\n",
    "from sim.sum_stats import elfi_summary\n",
    "import tskit\n",
    "import allel\n",
    "import numpy as np\n",
    "import matplotlib\n",
    "import matplotlib.pyplot as plt\n",
    "import seaborn as sns\n",
    "import elfi\n",
    "import scipy.stats\n",
    "from sklearn.preprocessing import StandardScaler\n",
    "import graphviz\n",
    "\n",
    "import logging\n",
    "logging.basicConfig()\n",
    "logging.getLogger().setLevel(logging.WARNING)\n",
    "\n",
    "#multiprocessing.freeze_support()\n",
    "#elfi.set_client('multiprocessing')\n",
    "\n"
   ]
  },
  {
   "cell_type": "markdown",
   "metadata": {},
   "source": [
    "### Create pseudo-observed data"
   ]
  },
  {
   "cell_type": "code",
   "execution_count": null,
   "metadata": {},
   "outputs": [],
   "source": [
    "y_obs = elfi_sim(length=int(5e6),\n",
    "            recombination_rate=1.8e-8,\n",
    "            mutation_rate=6e-8,\n",
    "            pop_size_domestic_1=[100],\n",
    "            pop_size_wild_1=[100],\n",
    "            pop_size_captive=[100],\n",
    "            captive_time=[20],\n",
    "            mig_rate_captive=[0.01],\n",
    "            mig_length_wild=[20],\n",
    "            mig_rate_wild=[0.01],\n",
    "            pop_size_domestic_2=[100],\n",
    "            pop_size_wild_2=[100],\n",
    "            div_time=[20000],\n",
    "            mig_rate_post_split=[0.1],\n",
    "            mig_length_post_split=[1000],\n",
    "            bottleneck_time_wild=[3000],\n",
    "            bottleneck_strength_wild=[10000],\n",
    "            bottleneck_time_domestic=[3000],\n",
    "            bottleneck_strength_domestic=[10000],\n",
    "            random_state=np.random.RandomState(3),\n",
    "            batch_size=1)"
   ]
  },
  {
   "cell_type": "markdown",
   "metadata": {},
   "source": [
    "### Set up prior and constants"
   ]
  },
  {
   "cell_type": "code",
   "execution_count": null,
   "metadata": {
    "jupyter": {
     "source_hidden": true
    }
   },
   "outputs": [],
   "source": [
    "\"\"\"\n",
    "length = elfi.Constant(int(5e6))\n",
    "recombination_rate = elfi.Constant(1.8e-8)\n",
    "mutation_rate = elfi.Constant(6e-8)\n",
    "pop_size_domestic_1 = elfi.Prior(scipy.stats.uniform, 100, 10000-100)  # scipy.stats.uniform(100, 15000),\n",
    "pop_size_wild_1 = elfi.Prior(scipy.stats.lognorm, 0.4, 0, np.exp(8))  # scipy.stats.lognorm(0.4, scale=np.exp(8.5)),\n",
    "pop_size_captive = elfi.Prior(scipy.stats.lognorm, 0.3, 0, np.exp(4.5))\n",
    "mig_rate_captive = elfi.Prior(scipy.stats.beta, 1.2, 40)\n",
    "captive_time = elfi.Prior(scipy.stats.lognorm, 0.7, 0, np.exp(3))\n",
    "mig_length_wild = elfi.Prior(scipy.stats.lognorm, 0.7, 0, np.exp(3))\n",
    "mig_rate_wild = elfi.Prior(scipy.stats.beta(2, 50))              \n",
    "pop_size_domestic_2 = elfi.Prior(scipy.stats.uniform, 1000, 20000-1000)  # scipy.stats.uniform(1000, 25000),\n",
    "pop_size_wild_2 = elfi.Prior(scipy.stats.lognorm, 0.2, 0, np.exp(8.8))  # scipy.stats.lognorm(0.2, scale=np.exp(9.2)),\n",
    "bottleneck_strength_domestic = elfi.Prior(scipy.stats.uniform, 0, 40000-0)\n",
    "bottleneck_time_domestic = elfi.Prior(scipy.stats.norm, 3500, 600)\n",
    "bottleneck_strength_wild = elfi.Prior(scipy.stats.uniform, 0, 40000-0)\n",
    "bottleneck_time_wild = elfi.Prior(scipy.stats.norm, 3500, 600)\n",
    "mig_length_post_split = elfi.Prior(scipy.stats.uniform, 0, 10000-0)\n",
    "mig_rate_post_split = elfi.Prior(scipy.stats.truncnorm, 0, 1, 0, 0.1)\n",
    "div_time = elfi.Prior(scipy.stats.norm, 40000, 5000)\n",
    "\"\"\"\n",
    "pass"
   ]
  },
  {
   "cell_type": "code",
   "execution_count": null,
   "metadata": {},
   "outputs": [],
   "source": [
    "# Test priors\n",
    "length = elfi.Constant(int(5e6))\n",
    "recombination_rate = elfi.Constant(1.8e-8)\n",
    "mutation_rate = elfi.Constant(6e-8)\n",
    "pop_size_domestic_1 = elfi.Prior(scipy.stats.truncnorm(-2, np.inf, 60, 10))  # scipy.stats.uniform(100, 15000),\n",
    "pop_size_wild_1 = elfi.Prior(scipy.stats.truncnorm(-2, np.inf, 60, 10))  # scipy.stats.lognorm(0.4, scale=np.exp(8.5)),\n",
    "pop_size_captive = elfi.Prior(scipy.stats.truncnorm(-2, np.inf, 60, 10))\n",
    "mig_rate_captive = elfi.Prior(scipy.stats.beta, 1.2, 40)\n",
    "captive_time = elfi.Prior(scipy.stats.lognorm, 0.7, 0, np.exp(3))\n",
    "mig_length_wild = elfi.Prior(scipy.stats.lognorm, 0.7, 0, np.exp(3))\n",
    "mig_rate_wild = elfi.Prior(scipy.stats.beta(2, 50))              \n",
    "pop_size_domestic_2 = elfi.Prior(scipy.stats.truncnorm(-2, np.inf, 60, 10))  # scipy.stats.uniform(1000, 25000),\n",
    "pop_size_wild_2 = elfi.Prior(scipy.stats.truncnorm(-2, np.inf, 60, 10))  # scipy.stats.lognorm(0.2, scale=np.exp(9.2)),\n",
    "bottleneck_strength_domestic = elfi.Prior(scipy.stats.uniform, 0, 20000-0)\n",
    "bottleneck_time_domestic = elfi.Prior(scipy.stats.norm, 3500, 300)\n",
    "bottleneck_strength_wild = elfi.Prior(scipy.stats.uniform, 0, 20000-0)\n",
    "bottleneck_time_wild = elfi.Prior(scipy.stats.norm, 3500, 300)\n",
    "mig_length_post_split = elfi.Prior(scipy.stats.uniform, 0, 10000-0)\n",
    "mig_rate_post_split = elfi.Prior(scipy.stats.truncnorm, 0, 1, 0, 0.1)\n",
    "div_time = elfi.Prior(scipy.stats.norm, 20000, 1000)"
   ]
  },
  {
   "cell_type": "code",
   "execution_count": null,
   "metadata": {},
   "outputs": [],
   "source": [
    "dist = scipy.stats.truncnorm(-2, np.inf, 60, 10)\n",
    "x = np.linspace(0,100,1000)\n",
    "y = dist.pdf(x)"
   ]
  },
  {
   "cell_type": "code",
   "execution_count": null,
   "metadata": {},
   "outputs": [],
   "source": [
    "plt.plot(x, y, \"r-\")"
   ]
  },
  {
   "cell_type": "markdown",
   "metadata": {},
   "source": [
    "### Initiate simulator node"
   ]
  },
  {
   "cell_type": "code",
   "execution_count": null,
   "metadata": {},
   "outputs": [],
   "source": [
    "y = elfi.Simulator(elfi_sim,\n",
    "                   length, recombination_rate, mutation_rate, pop_size_domestic_1, pop_size_wild_1,\n",
    "                   pop_size_captive, mig_rate_captive, mig_length_wild, mig_rate_wild,\n",
    "                   captive_time, pop_size_domestic_2, pop_size_wild_2, div_time, mig_rate_post_split,\n",
    "                   mig_length_post_split, bottleneck_time_wild, bottleneck_strength_wild,\n",
    "                   bottleneck_time_domestic, bottleneck_strength_domestic, name=\"simulator\", observed=y_obs)\n",
    "s = elfi.Summary(elfi_summary, y, name='s')\n",
    "\n",
    "d = elfi.Distance('euclidean', s, name='d')\n"
   ]
  },
  {
   "cell_type": "code",
   "execution_count": null,
   "metadata": {},
   "outputs": [],
   "source": [
    "# elfi.draw(s)"
   ]
  },
  {
   "cell_type": "markdown",
   "metadata": {},
   "source": [
    "### Carry out simulations to \"train\" scaler"
   ]
  },
  {
   "cell_type": "code",
   "execution_count": null,
   "metadata": {},
   "outputs": [],
   "source": [
    "seed = 1\n",
    "pool = elfi.OutputPool(['s'])\n",
    "rej = elfi.Rejection(d, batch_size=4, seed=1, pool=pool)\n",
    "rej_res = rej.sample(32, quantile=1)  # Accept all\n",
    "store = pool.get_store('s')\n",
    "sum_stats = np.array(list(store.values()))\n",
    "sum_stats = sum_stats.reshape(-1, sum_stats.shape[2])  # Drop batches axis\n",
    "scaler = StandardScaler() # StandardScaler()\n",
    "scaler.fit(sum_stats)"
   ]
  },
  {
   "cell_type": "markdown",
   "metadata": {},
   "source": [
    "### Test scaling params"
   ]
  },
  {
   "cell_type": "code",
   "execution_count": null,
   "metadata": {
    "jupyter": {
     "source_hidden": true
    }
   },
   "outputs": [],
   "source": [
    "# New priors\n",
    "length.become(elfi.Constant(int(5e6)))\n",
    "recombination_rate.become(elfi.Constant(1.8e-8))\n",
    "mutation_rate.become(elfi.Constant(6e-8))\n",
    "pop_size_domestic_1.become(elfi.Prior(scipy.stats.uniform, -1, 2))  # scipy.stats.uniform(100, 15000),\n",
    "pop_size_wild_1.become(elfi.Prior(scipy.stats.uniform, -1, 2))  # scipy.stats.lognorm(0.4, scale=np.exp(8.5)),\n",
    "pop_size_captive.become(elfi.Prior(scipy.stats.uniform, -1, 2))\n",
    "mig_rate_captive.become(elfi.Prior(scipy.stats.uniform, -1, 2))\n",
    "captive_time.become(elfi.Prior(scipy.stats.uniform, -1, 2))\n",
    "mig_length_wild.become(elfi.Prior(scipy.stats.uniform, -1, 2))\n",
    "mig_rate_wild.become(elfi.Prior(scipy.stats.uniform, -1, 2))           \n",
    "pop_size_domestic_2.become(elfi.Prior(scipy.stats.uniform, -1, 2))  # scipy.stats.uniform(1000, 25000),\n",
    "pop_size_wild_2.become(elfi.Prior(scipy.stats.uniform, -1, 2))  # scipy.stats.lognorm(0.2, scale=np.exp(9.2)),\n",
    "bottleneck_strength_domestic.become(elfi.Prior(scipy.stats.uniform, -1, 2))\n",
    "bottleneck_time_domestic.become(elfi.Prior(scipy.stats.uniform, -1, 2))\n",
    "bottleneck_strength_wild.become(elfi.Prior(scipy.stats.uniform, -1, 2))\n",
    "bottleneck_time_wild.become(elfi.Prior(scipy.stats.uniform, -1, 2))\n",
    "mig_length_post_split.become(elfi.Prior(scipy.stats.uniform, -1, 2))\n",
    "mig_rate_post_split.become(elfi.Prior(scipy.stats.uniform, -1, 2))\n",
    "div_time.become(elfi.Prior(scipy.stats.uniform, -1, 2))"
   ]
  },
  {
   "cell_type": "code",
   "execution_count": null,
   "metadata": {
    "jupyter": {
     "source_hidden": true
    }
   },
   "outputs": [],
   "source": [
    "param_scaler = StandardScaler()\n",
    "param_scaler.fit(rej_res.samples_array)\n",
    "\n",
    "def elfi_sim_scaled(*args, batch_size, random_state):\n",
    "    constants = args[:3]\n",
    "    params = np.array(args[3:]).T\n",
    "    params_with_priors = param_scaler.inverse_transform(params).T.tolist()\n",
    "\n",
    "    results = elfi_sim(*args[:3], *params_with_priors, random_state, batch_size)\n",
    "    return results\n",
    "\n",
    "\n",
    "\n",
    "y.become(elfi.Simulator(elfi_sim_scaled,\n",
    "                   length, recombination_rate, mutation_rate, pop_size_domestic_1, pop_size_wild_1,\n",
    "                   pop_size_captive, mig_rate_captive, mig_length_wild, mig_rate_wild,\n",
    "                   captive_time, pop_size_domestic_2, pop_size_wild_2, div_time, mig_rate_post_split,\n",
    "                   mig_length_post_split, bottleneck_time_wild, bottleneck_strength_wild,\n",
    "                   bottleneck_time_domestic, bottleneck_strength_domestic, name=\"simulator_scaled\", observed=y_obs))"
   ]
  },
  {
   "cell_type": "markdown",
   "metadata": {},
   "source": [
    "### Scale summaries"
   ]
  },
  {
   "cell_type": "code",
   "execution_count": null,
   "metadata": {},
   "outputs": [],
   "source": [
    "def elfi_summary_scaled(*args):  # This function might not get pushed to workers properly?\n",
    "    sum_stats = elfi_summary(*args)\n",
    "    sum_stats = scaler.transform(sum_stats)\n",
    "    return sum_stats\n",
    "\n",
    "s.become(elfi.Summary(elfi_summary_scaled, y, name='scaled_s'))\n",
    "\n"
   ]
  },
  {
   "cell_type": "markdown",
   "metadata": {},
   "source": [
    "### Run SMC"
   ]
  },
  {
   "cell_type": "code",
   "execution_count": null,
   "metadata": {},
   "outputs": [],
   "source": [
    "smc = elfi.SMC(d, seed=2, batch_size=10)\n",
    "smc_res = smc.sample(30, [18, 17])  # Probably an issue with narrow uniform priors?"
   ]
  },
  {
   "cell_type": "code",
   "execution_count": null,
   "metadata": {},
   "outputs": [],
   "source": [
    "import joblib\n",
    "x = joblib.load(\"x.joblib\")\n",
    "means = joblib.load(\"means.joblib\")\n",
    "weights = joblib.load(\"weights.joblib\")"
   ]
  },
  {
   "cell_type": "code",
   "execution_count": null,
   "metadata": {},
   "outputs": [],
   "source": [
    "from scipy.stats import multivariate_normal\n",
    "d = np.zeros(len(x))\n",
    "for m, w in zip(means, weights):\n",
    "    d += w * multivariate_normal.pdf(x, mean=m, cov=1)"
   ]
  },
  {
   "cell_type": "code",
   "execution_count": null,
   "metadata": {},
   "outputs": [],
   "source": [
    "weights.shape"
   ]
  },
  {
   "cell_type": "markdown",
   "metadata": {},
   "source": [
    "### Bug reasons?\n",
    "- All the weights are 0.0333 (i.e. 1/30 - the number of simulations) That shouldn't be an issue I don't think. However, why would the weights be equal when they should be based on\n",
    "- The pdf at the quantiles x are all zero... Hence there's no way to know how to perturb the particle by drawing random values from the multivariate gaussian?\n",
    "\n"
   ]
  },
  {
   "cell_type": "markdown",
   "metadata": {},
   "source": [
    "### Test tutorial smc scaling"
   ]
  },
  {
   "cell_type": "code",
   "execution_count": 1,
   "metadata": {},
   "outputs": [],
   "source": [
    "import elfi\n",
    "import scipy.stats\n",
    "import numpy as np\n",
    "\n",
    "\n",
    "def MA2(t1, t2, n_obs=100, batch_size=1, random_state=None):\n",
    "    # Make inputs 2d arrays for numpy broadcasting with w\n",
    "    t1 = t1/1e5\n",
    "    t1 = np.asanyarray(t1).reshape((-1, 1))\n",
    "    t2 = np.asanyarray(t2).reshape((-1, 1))\n",
    "    random_state = random_state or np.random\n",
    "\n",
    "    w = random_state.randn(batch_size, n_obs+2)  # i.i.d. sequence ~ N(0,1)\n",
    "    x = w[:, 2:] + t1*w[:, 1:-1] + t2*w[:, :-2]\n",
    "    return x"
   ]
  },
  {
   "cell_type": "code",
   "execution_count": 2,
   "metadata": {},
   "outputs": [],
   "source": [
    "t1 = elfi.Prior(scipy.stats.uniform, 0, 2e5)\n",
    "t2 = elfi.Prior('uniform', 0, 2)\n",
    "\n",
    "t1_true = 0.6\n",
    "t2_true = 0.2\n",
    "y_obs = MA2(t1_true, t2_true)\n",
    "\n",
    "Y = elfi.Simulator(MA2, t1, t2, observed=y_obs)\n",
    "\n",
    "def autocov(x, lag=1):\n",
    "    C = np.mean(x[:,lag:] * x[:,:-lag], axis=1)\n",
    "    return C\n",
    "\n",
    "\n",
    "S1 = elfi.Summary(autocov, Y)\n",
    "S2 = elfi.Summary(autocov, Y, 2)  # the optional keyword lag is given the value 2\n",
    "d = elfi.Distance('euclidean', S1, S2)\n",
    "\n"
   ]
  },
  {
   "cell_type": "code",
   "execution_count": 3,
   "metadata": {},
   "outputs": [
    {
     "data": {
      "image/svg+xml": [
       "<?xml version=\"1.0\" encoding=\"UTF-8\" standalone=\"no\"?>\r\n",
       "<!DOCTYPE svg PUBLIC \"-//W3C//DTD SVG 1.1//EN\"\r\n",
       " \"http://www.w3.org/Graphics/SVG/1.1/DTD/svg11.dtd\">\r\n",
       "<!-- Generated by graphviz version 2.38.0 (20140413.2041)\r\n",
       " -->\r\n",
       "<!-- Title: %3 Pages: 1 -->\r\n",
       "<svg width=\"110pt\" height=\"266pt\"\r\n",
       " viewBox=\"0.00 0.00 109.60 265.60\" xmlns=\"http://www.w3.org/2000/svg\" xmlns:xlink=\"http://www.w3.org/1999/xlink\">\r\n",
       "<g id=\"graph0\" class=\"graph\" transform=\"scale(1 1) rotate(0) translate(4 261.596)\">\r\n",
       "<title>%3</title>\r\n",
       "<polygon fill=\"white\" stroke=\"none\" points=\"-4,4 -4,-261.596 105.596,-261.596 105.596,4 -4,4\"/>\r\n",
       "<!-- t1 -->\r\n",
       "<g id=\"node1\" class=\"node\"><title>t1</title>\r\n",
       "<ellipse fill=\"none\" stroke=\"black\" cx=\"23.7982\" cy=\"-239.596\" rx=\"18\" ry=\"18\"/>\r\n",
       "<text text-anchor=\"middle\" x=\"23.7982\" y=\"-235.896\" font-family=\"Times New Roman,serif\" font-size=\"14.00\">t1</text>\r\n",
       "</g>\r\n",
       "<!-- Y -->\r\n",
       "<g id=\"node3\" class=\"node\"><title>Y</title>\r\n",
       "<ellipse fill=\"#cccccc\" stroke=\"black\" cx=\"50.7982\" cy=\"-167.596\" rx=\"18\" ry=\"18\"/>\r\n",
       "<text text-anchor=\"middle\" x=\"50.7982\" y=\"-163.896\" font-family=\"Times New Roman,serif\" font-size=\"14.00\">Y</text>\r\n",
       "</g>\r\n",
       "<!-- t1&#45;&gt;Y -->\r\n",
       "<g id=\"edge1\" class=\"edge\"><title>t1&#45;&gt;Y</title>\r\n",
       "<path fill=\"none\" stroke=\"black\" d=\"M30.0604,-222.361C33.2977,-213.968 37.3235,-203.531 40.9643,-194.091\"/>\r\n",
       "<polygon fill=\"black\" stroke=\"black\" points=\"44.2366,-195.333 44.5699,-184.744 37.7056,-192.814 44.2366,-195.333\"/>\r\n",
       "</g>\r\n",
       "<!-- t2 -->\r\n",
       "<g id=\"node2\" class=\"node\"><title>t2</title>\r\n",
       "<ellipse fill=\"none\" stroke=\"black\" cx=\"77.7982\" cy=\"-239.596\" rx=\"18\" ry=\"18\"/>\r\n",
       "<text text-anchor=\"middle\" x=\"77.7982\" y=\"-235.896\" font-family=\"Times New Roman,serif\" font-size=\"14.00\">t2</text>\r\n",
       "</g>\r\n",
       "<!-- t2&#45;&gt;Y -->\r\n",
       "<g id=\"edge2\" class=\"edge\"><title>t2&#45;&gt;Y</title>\r\n",
       "<path fill=\"none\" stroke=\"black\" d=\"M71.5359,-222.361C68.2986,-213.968 64.2728,-203.531 60.632,-194.091\"/>\r\n",
       "<polygon fill=\"black\" stroke=\"black\" points=\"63.8907,-192.814 57.0264,-184.744 57.3597,-195.333 63.8907,-192.814\"/>\r\n",
       "</g>\r\n",
       "<!-- S1 -->\r\n",
       "<g id=\"node4\" class=\"node\"><title>S1</title>\r\n",
       "<ellipse fill=\"#cccccc\" stroke=\"black\" cx=\"20.7982\" cy=\"-92.7982\" rx=\"20.5982\" ry=\"20.5982\"/>\r\n",
       "<text text-anchor=\"middle\" x=\"20.7982\" y=\"-89.0982\" font-family=\"Times New Roman,serif\" font-size=\"14.00\">S1</text>\r\n",
       "</g>\r\n",
       "<!-- Y&#45;&gt;S1 -->\r\n",
       "<g id=\"edge3\" class=\"edge\"><title>Y&#45;&gt;S1</title>\r\n",
       "<path fill=\"none\" stroke=\"black\" d=\"M44.2886,-150.8C40.7989,-142.332 36.3951,-131.646 32.3462,-121.821\"/>\r\n",
       "<polygon fill=\"black\" stroke=\"black\" points=\"35.5086,-120.309 28.4624,-112.396 29.0366,-122.976 35.5086,-120.309\"/>\r\n",
       "</g>\r\n",
       "<!-- S2 -->\r\n",
       "<g id=\"node5\" class=\"node\"><title>S2</title>\r\n",
       "<ellipse fill=\"#cccccc\" stroke=\"black\" cx=\"80.7982\" cy=\"-92.7982\" rx=\"20.5982\" ry=\"20.5982\"/>\r\n",
       "<text text-anchor=\"middle\" x=\"80.7982\" y=\"-89.0982\" font-family=\"Times New Roman,serif\" font-size=\"14.00\">S2</text>\r\n",
       "</g>\r\n",
       "<!-- Y&#45;&gt;S2 -->\r\n",
       "<g id=\"edge4\" class=\"edge\"><title>Y&#45;&gt;S2</title>\r\n",
       "<path fill=\"none\" stroke=\"black\" d=\"M57.3077,-150.8C60.7974,-142.332 65.2012,-131.646 69.2502,-121.821\"/>\r\n",
       "<polygon fill=\"black\" stroke=\"black\" points=\"72.5597,-122.976 73.1339,-112.396 66.0877,-120.309 72.5597,-122.976\"/>\r\n",
       "</g>\r\n",
       "<!-- d -->\r\n",
       "<g id=\"node6\" class=\"node\"><title>d</title>\r\n",
       "<ellipse fill=\"none\" stroke=\"black\" cx=\"50.7982\" cy=\"-18\" rx=\"18\" ry=\"18\"/>\r\n",
       "<text text-anchor=\"middle\" x=\"50.7982\" y=\"-14.3\" font-family=\"Times New Roman,serif\" font-size=\"14.00\">d</text>\r\n",
       "</g>\r\n",
       "<!-- S1&#45;&gt;d -->\r\n",
       "<g id=\"edge5\" class=\"edge\"><title>S1&#45;&gt;d</title>\r\n",
       "<path fill=\"none\" stroke=\"black\" d=\"M28.5239,-73.0508C32.1317,-64.2961 36.4803,-53.7437 40.374,-44.2953\"/>\r\n",
       "<polygon fill=\"black\" stroke=\"black\" points=\"43.6426,-45.5495 44.2168,-34.9702 37.1707,-42.8824 43.6426,-45.5495\"/>\r\n",
       "</g>\r\n",
       "<!-- S2&#45;&gt;d -->\r\n",
       "<g id=\"edge6\" class=\"edge\"><title>S2&#45;&gt;d</title>\r\n",
       "<path fill=\"none\" stroke=\"black\" d=\"M73.0724,-73.0508C69.4646,-64.2961 65.116,-53.7437 61.2223,-44.2953\"/>\r\n",
       "<polygon fill=\"black\" stroke=\"black\" points=\"64.4257,-42.8824 57.3795,-34.9702 57.9537,-45.5495 64.4257,-42.8824\"/>\r\n",
       "</g>\r\n",
       "</g>\r\n",
       "</svg>\r\n"
      ],
      "text/plain": [
       "<graphviz.dot.Digraph at 0x14b22d08488>"
      ]
     },
     "execution_count": 3,
     "metadata": {},
     "output_type": "execute_result"
    }
   ],
   "source": [
    "elfi.draw(d)"
   ]
  },
  {
   "cell_type": "code",
   "execution_count": 4,
   "metadata": {},
   "outputs": [],
   "source": [
    "smc = elfi.SMC(d, batch_size=10000, seed=1)"
   ]
  },
  {
   "cell_type": "code",
   "execution_count": 5,
   "metadata": {},
   "outputs": [
    {
     "name": "stdout",
     "output_type": "stream",
     "text": [
      "Progress: |█████████████████████████████████-----------------| 66.7% Complete\r"
     ]
    },
    {
     "ename": "LinAlgError",
     "evalue": "singular matrix",
     "output_type": "error",
     "traceback": [
      "\u001b[1;31m---------------------------------------------------------------------------\u001b[0m",
      "\u001b[1;31mLinAlgError\u001b[0m                               Traceback (most recent call last)",
      "\u001b[1;32m<timed exec>\u001b[0m in \u001b[0;36m<module>\u001b[1;34m\u001b[0m\n",
      "\u001b[1;32m~\\miniconda3\\envs\\wildcats_summer_env\\lib\\site-packages\\elfi\\methods\\parameter_inference.py\u001b[0m in \u001b[0;36msample\u001b[1;34m(self, n_samples, *args, **kwargs)\u001b[0m\n\u001b[0;32m    404\u001b[0m         \u001b[0mbar\u001b[0m \u001b[1;33m=\u001b[0m \u001b[0mkwargs\u001b[0m\u001b[1;33m.\u001b[0m\u001b[0mpop\u001b[0m\u001b[1;33m(\u001b[0m\u001b[1;34m'bar'\u001b[0m\u001b[1;33m,\u001b[0m \u001b[1;32mTrue\u001b[0m\u001b[1;33m)\u001b[0m\u001b[1;33m\u001b[0m\u001b[1;33m\u001b[0m\u001b[0m\n\u001b[0;32m    405\u001b[0m \u001b[1;33m\u001b[0m\u001b[0m\n\u001b[1;32m--> 406\u001b[1;33m         \u001b[1;32mreturn\u001b[0m \u001b[0mself\u001b[0m\u001b[1;33m.\u001b[0m\u001b[0minfer\u001b[0m\u001b[1;33m(\u001b[0m\u001b[0mn_samples\u001b[0m\u001b[1;33m,\u001b[0m \u001b[1;33m*\u001b[0m\u001b[0margs\u001b[0m\u001b[1;33m,\u001b[0m \u001b[0mbar\u001b[0m\u001b[1;33m=\u001b[0m\u001b[0mbar\u001b[0m\u001b[1;33m,\u001b[0m \u001b[1;33m**\u001b[0m\u001b[0mkwargs\u001b[0m\u001b[1;33m)\u001b[0m\u001b[1;33m\u001b[0m\u001b[1;33m\u001b[0m\u001b[0m\n\u001b[0m\u001b[0;32m    407\u001b[0m \u001b[1;33m\u001b[0m\u001b[0m\n\u001b[0;32m    408\u001b[0m     \u001b[1;32mdef\u001b[0m \u001b[0m_extract_result_kwargs\u001b[0m\u001b[1;33m(\u001b[0m\u001b[0mself\u001b[0m\u001b[1;33m)\u001b[0m\u001b[1;33m:\u001b[0m\u001b[1;33m\u001b[0m\u001b[1;33m\u001b[0m\u001b[0m\n",
      "\u001b[1;32m~\\miniconda3\\envs\\wildcats_summer_env\\lib\\site-packages\\elfi\\methods\\parameter_inference.py\u001b[0m in \u001b[0;36minfer\u001b[1;34m(self, vis, bar, *args, **kwargs)\u001b[0m\n\u001b[0;32m    262\u001b[0m \u001b[1;33m\u001b[0m\u001b[0m\n\u001b[0;32m    263\u001b[0m         \u001b[1;32mwhile\u001b[0m \u001b[1;32mnot\u001b[0m \u001b[0mself\u001b[0m\u001b[1;33m.\u001b[0m\u001b[0mfinished\u001b[0m\u001b[1;33m:\u001b[0m\u001b[1;33m\u001b[0m\u001b[1;33m\u001b[0m\u001b[0m\n\u001b[1;32m--> 264\u001b[1;33m             \u001b[0mself\u001b[0m\u001b[1;33m.\u001b[0m\u001b[0miterate\u001b[0m\u001b[1;33m(\u001b[0m\u001b[1;33m)\u001b[0m\u001b[1;33m\u001b[0m\u001b[1;33m\u001b[0m\u001b[0m\n\u001b[0m\u001b[0;32m    265\u001b[0m             \u001b[1;32mif\u001b[0m \u001b[0mvis\u001b[0m\u001b[1;33m:\u001b[0m\u001b[1;33m\u001b[0m\u001b[1;33m\u001b[0m\u001b[0m\n\u001b[0;32m    266\u001b[0m                 \u001b[0mself\u001b[0m\u001b[1;33m.\u001b[0m\u001b[0mplot_state\u001b[0m\u001b[1;33m(\u001b[0m\u001b[0minteractive\u001b[0m\u001b[1;33m=\u001b[0m\u001b[1;32mTrue\u001b[0m\u001b[1;33m,\u001b[0m \u001b[1;33m**\u001b[0m\u001b[0mvis_opt\u001b[0m\u001b[1;33m)\u001b[0m\u001b[1;33m\u001b[0m\u001b[1;33m\u001b[0m\u001b[0m\n",
      "\u001b[1;32m~\\miniconda3\\envs\\wildcats_summer_env\\lib\\site-packages\\elfi\\methods\\parameter_inference.py\u001b[0m in \u001b[0;36miterate\u001b[1;34m(self)\u001b[0m\n\u001b[0;32m    306\u001b[0m         \u001b[0mbatch\u001b[0m\u001b[1;33m,\u001b[0m \u001b[0mbatch_index\u001b[0m \u001b[1;33m=\u001b[0m \u001b[0mself\u001b[0m\u001b[1;33m.\u001b[0m\u001b[0mbatches\u001b[0m\u001b[1;33m.\u001b[0m\u001b[0mwait_next\u001b[0m\u001b[1;33m(\u001b[0m\u001b[1;33m)\u001b[0m\u001b[1;33m\u001b[0m\u001b[1;33m\u001b[0m\u001b[0m\n\u001b[0;32m    307\u001b[0m         \u001b[0mlogger\u001b[0m\u001b[1;33m.\u001b[0m\u001b[0mdebug\u001b[0m\u001b[1;33m(\u001b[0m\u001b[1;34m'Received batch %d'\u001b[0m \u001b[1;33m%\u001b[0m \u001b[0mbatch_index\u001b[0m\u001b[1;33m)\u001b[0m\u001b[1;33m\u001b[0m\u001b[1;33m\u001b[0m\u001b[0m\n\u001b[1;32m--> 308\u001b[1;33m         \u001b[0mself\u001b[0m\u001b[1;33m.\u001b[0m\u001b[0mupdate\u001b[0m\u001b[1;33m(\u001b[0m\u001b[0mbatch\u001b[0m\u001b[1;33m,\u001b[0m \u001b[0mbatch_index\u001b[0m\u001b[1;33m)\u001b[0m\u001b[1;33m\u001b[0m\u001b[1;33m\u001b[0m\u001b[0m\n\u001b[0m\u001b[0;32m    309\u001b[0m \u001b[1;33m\u001b[0m\u001b[0m\n\u001b[0;32m    310\u001b[0m     \u001b[1;33m@\u001b[0m\u001b[0mproperty\u001b[0m\u001b[1;33m\u001b[0m\u001b[1;33m\u001b[0m\u001b[0m\n",
      "\u001b[1;32m~\\miniconda3\\envs\\wildcats_summer_env\\lib\\site-packages\\elfi\\methods\\parameter_inference.py\u001b[0m in \u001b[0;36mupdate\u001b[1;34m(self, batch, batch_index)\u001b[0m\n\u001b[0;32m    688\u001b[0m             \u001b[0mself\u001b[0m\u001b[1;33m.\u001b[0m\u001b[0mbatches\u001b[0m\u001b[1;33m.\u001b[0m\u001b[0mcancel_pending\u001b[0m\u001b[1;33m(\u001b[0m\u001b[1;33m)\u001b[0m\u001b[1;33m\u001b[0m\u001b[1;33m\u001b[0m\u001b[0m\n\u001b[0;32m    689\u001b[0m             \u001b[1;32mif\u001b[0m \u001b[0mself\u001b[0m\u001b[1;33m.\u001b[0m\u001b[0mstate\u001b[0m\u001b[1;33m[\u001b[0m\u001b[1;34m'round'\u001b[0m\u001b[1;33m]\u001b[0m \u001b[1;33m<\u001b[0m \u001b[0mself\u001b[0m\u001b[1;33m.\u001b[0m\u001b[0mobjective\u001b[0m\u001b[1;33m[\u001b[0m\u001b[1;34m'round'\u001b[0m\u001b[1;33m]\u001b[0m\u001b[1;33m:\u001b[0m\u001b[1;33m\u001b[0m\u001b[1;33m\u001b[0m\u001b[0m\n\u001b[1;32m--> 690\u001b[1;33m                 \u001b[0mself\u001b[0m\u001b[1;33m.\u001b[0m\u001b[0m_populations\u001b[0m\u001b[1;33m.\u001b[0m\u001b[0mappend\u001b[0m\u001b[1;33m(\u001b[0m\u001b[0mself\u001b[0m\u001b[1;33m.\u001b[0m\u001b[0m_extract_population\u001b[0m\u001b[1;33m(\u001b[0m\u001b[1;33m)\u001b[0m\u001b[1;33m)\u001b[0m\u001b[1;33m\u001b[0m\u001b[1;33m\u001b[0m\u001b[0m\n\u001b[0m\u001b[0;32m    691\u001b[0m                 \u001b[0mself\u001b[0m\u001b[1;33m.\u001b[0m\u001b[0mstate\u001b[0m\u001b[1;33m[\u001b[0m\u001b[1;34m'round'\u001b[0m\u001b[1;33m]\u001b[0m \u001b[1;33m+=\u001b[0m \u001b[1;36m1\u001b[0m\u001b[1;33m\u001b[0m\u001b[1;33m\u001b[0m\u001b[0m\n\u001b[0;32m    692\u001b[0m                 \u001b[0mself\u001b[0m\u001b[1;33m.\u001b[0m\u001b[0m_init_new_round\u001b[0m\u001b[1;33m(\u001b[0m\u001b[1;33m)\u001b[0m\u001b[1;33m\u001b[0m\u001b[1;33m\u001b[0m\u001b[0m\n",
      "\u001b[1;32m~\\miniconda3\\envs\\wildcats_summer_env\\lib\\site-packages\\elfi\\methods\\parameter_inference.py\u001b[0m in \u001b[0;36m_extract_population\u001b[1;34m(self)\u001b[0m\n\u001b[0;32m    746\u001b[0m         \u001b[1;31m# Append the sample object\u001b[0m\u001b[1;33m\u001b[0m\u001b[1;33m\u001b[0m\u001b[1;33m\u001b[0m\u001b[0m\n\u001b[0;32m    747\u001b[0m         \u001b[0msample\u001b[0m\u001b[1;33m.\u001b[0m\u001b[0mmethod_name\u001b[0m \u001b[1;33m=\u001b[0m \u001b[1;34m\"Rejection within SMC-ABC\"\u001b[0m\u001b[1;33m\u001b[0m\u001b[1;33m\u001b[0m\u001b[0m\n\u001b[1;32m--> 748\u001b[1;33m         \u001b[0mw\u001b[0m\u001b[1;33m,\u001b[0m \u001b[0mcov\u001b[0m \u001b[1;33m=\u001b[0m \u001b[0mself\u001b[0m\u001b[1;33m.\u001b[0m\u001b[0m_compute_weights_and_cov\u001b[0m\u001b[1;33m(\u001b[0m\u001b[0msample\u001b[0m\u001b[1;33m)\u001b[0m\u001b[1;33m\u001b[0m\u001b[1;33m\u001b[0m\u001b[0m\n\u001b[0m\u001b[0;32m    749\u001b[0m         \u001b[0msample\u001b[0m\u001b[1;33m.\u001b[0m\u001b[0mweights\u001b[0m \u001b[1;33m=\u001b[0m \u001b[0mw\u001b[0m\u001b[1;33m\u001b[0m\u001b[1;33m\u001b[0m\u001b[0m\n\u001b[0;32m    750\u001b[0m         \u001b[0msample\u001b[0m\u001b[1;33m.\u001b[0m\u001b[0mmeta\u001b[0m\u001b[1;33m[\u001b[0m\u001b[1;34m'cov'\u001b[0m\u001b[1;33m]\u001b[0m \u001b[1;33m=\u001b[0m \u001b[0mcov\u001b[0m\u001b[1;33m\u001b[0m\u001b[1;33m\u001b[0m\u001b[0m\n",
      "\u001b[1;32m~\\miniconda3\\envs\\wildcats_summer_env\\lib\\site-packages\\elfi\\methods\\parameter_inference.py\u001b[0m in \u001b[0;36m_compute_weights_and_cov\u001b[1;34m(self, pop)\u001b[0m\n\u001b[0;32m    755\u001b[0m \u001b[1;33m\u001b[0m\u001b[0m\n\u001b[0;32m    756\u001b[0m         \u001b[1;32mif\u001b[0m \u001b[0mself\u001b[0m\u001b[1;33m.\u001b[0m\u001b[0m_populations\u001b[0m\u001b[1;33m:\u001b[0m\u001b[1;33m\u001b[0m\u001b[1;33m\u001b[0m\u001b[0m\n\u001b[1;32m--> 757\u001b[1;33m             \u001b[0mq_logpdf\u001b[0m \u001b[1;33m=\u001b[0m \u001b[0mGMDistribution\u001b[0m\u001b[1;33m.\u001b[0m\u001b[0mlogpdf\u001b[0m\u001b[1;33m(\u001b[0m\u001b[0mparams\u001b[0m\u001b[1;33m,\u001b[0m \u001b[1;33m*\u001b[0m\u001b[0mself\u001b[0m\u001b[1;33m.\u001b[0m\u001b[0m_gm_params\u001b[0m\u001b[1;33m)\u001b[0m\u001b[1;33m\u001b[0m\u001b[1;33m\u001b[0m\u001b[0m\n\u001b[0m\u001b[0;32m    758\u001b[0m             \u001b[0mp_logpdf\u001b[0m \u001b[1;33m=\u001b[0m \u001b[0mself\u001b[0m\u001b[1;33m.\u001b[0m\u001b[0m_prior\u001b[0m\u001b[1;33m.\u001b[0m\u001b[0mlogpdf\u001b[0m\u001b[1;33m(\u001b[0m\u001b[0mparams\u001b[0m\u001b[1;33m)\u001b[0m\u001b[1;33m\u001b[0m\u001b[1;33m\u001b[0m\u001b[0m\n\u001b[0;32m    759\u001b[0m             \u001b[0mw\u001b[0m \u001b[1;33m=\u001b[0m \u001b[0mnp\u001b[0m\u001b[1;33m.\u001b[0m\u001b[0mexp\u001b[0m\u001b[1;33m(\u001b[0m\u001b[0mp_logpdf\u001b[0m \u001b[1;33m-\u001b[0m \u001b[0mq_logpdf\u001b[0m\u001b[1;33m)\u001b[0m\u001b[1;33m\u001b[0m\u001b[1;33m\u001b[0m\u001b[0m\n",
      "\u001b[1;32m~\\miniconda3\\envs\\wildcats_summer_env\\lib\\site-packages\\elfi\\methods\\utils.py\u001b[0m in \u001b[0;36mlogpdf\u001b[1;34m(cls, x, means, cov, weights)\u001b[0m\n\u001b[0;32m    181\u001b[0m \u001b[1;33m\u001b[0m\u001b[0m\n\u001b[0;32m    182\u001b[0m         \"\"\"\n\u001b[1;32m--> 183\u001b[1;33m         \u001b[1;32mreturn\u001b[0m \u001b[0mnp\u001b[0m\u001b[1;33m.\u001b[0m\u001b[0mlog\u001b[0m\u001b[1;33m(\u001b[0m\u001b[0mcls\u001b[0m\u001b[1;33m.\u001b[0m\u001b[0mpdf\u001b[0m\u001b[1;33m(\u001b[0m\u001b[0mx\u001b[0m\u001b[1;33m,\u001b[0m \u001b[0mmeans\u001b[0m\u001b[1;33m=\u001b[0m\u001b[0mmeans\u001b[0m\u001b[1;33m,\u001b[0m \u001b[0mcov\u001b[0m\u001b[1;33m=\u001b[0m\u001b[0mcov\u001b[0m\u001b[1;33m,\u001b[0m \u001b[0mweights\u001b[0m\u001b[1;33m=\u001b[0m\u001b[0mweights\u001b[0m\u001b[1;33m)\u001b[0m\u001b[1;33m)\u001b[0m\u001b[1;33m\u001b[0m\u001b[1;33m\u001b[0m\u001b[0m\n\u001b[0m\u001b[0;32m    184\u001b[0m \u001b[1;33m\u001b[0m\u001b[0m\n\u001b[0;32m    185\u001b[0m     \u001b[1;33m@\u001b[0m\u001b[0mclassmethod\u001b[0m\u001b[1;33m\u001b[0m\u001b[1;33m\u001b[0m\u001b[0m\n",
      "\u001b[1;32m~\\miniconda3\\envs\\wildcats_summer_env\\lib\\site-packages\\elfi\\methods\\utils.py\u001b[0m in \u001b[0;36mpdf\u001b[1;34m(cls, x, means, cov, weights)\u001b[0m\n\u001b[0;32m    156\u001b[0m         \u001b[0md\u001b[0m \u001b[1;33m=\u001b[0m \u001b[0mnp\u001b[0m\u001b[1;33m.\u001b[0m\u001b[0mzeros\u001b[0m\u001b[1;33m(\u001b[0m\u001b[0mlen\u001b[0m\u001b[1;33m(\u001b[0m\u001b[0mx\u001b[0m\u001b[1;33m)\u001b[0m\u001b[1;33m)\u001b[0m\u001b[1;33m\u001b[0m\u001b[1;33m\u001b[0m\u001b[0m\n\u001b[0;32m    157\u001b[0m         \u001b[1;32mfor\u001b[0m \u001b[0mm\u001b[0m\u001b[1;33m,\u001b[0m \u001b[0mw\u001b[0m \u001b[1;32min\u001b[0m \u001b[0mzip\u001b[0m\u001b[1;33m(\u001b[0m\u001b[0mmeans\u001b[0m\u001b[1;33m,\u001b[0m \u001b[0mweights\u001b[0m\u001b[1;33m)\u001b[0m\u001b[1;33m:\u001b[0m\u001b[1;33m\u001b[0m\u001b[1;33m\u001b[0m\u001b[0m\n\u001b[1;32m--> 158\u001b[1;33m             \u001b[0md\u001b[0m \u001b[1;33m+=\u001b[0m \u001b[0mw\u001b[0m \u001b[1;33m*\u001b[0m \u001b[0mss\u001b[0m\u001b[1;33m.\u001b[0m\u001b[0mmultivariate_normal\u001b[0m\u001b[1;33m.\u001b[0m\u001b[0mpdf\u001b[0m\u001b[1;33m(\u001b[0m\u001b[0mx\u001b[0m\u001b[1;33m,\u001b[0m \u001b[0mmean\u001b[0m\u001b[1;33m=\u001b[0m\u001b[0mm\u001b[0m\u001b[1;33m,\u001b[0m \u001b[0mcov\u001b[0m\u001b[1;33m=\u001b[0m\u001b[0mcov\u001b[0m\u001b[1;33m)\u001b[0m\u001b[1;33m\u001b[0m\u001b[1;33m\u001b[0m\u001b[0m\n\u001b[0m\u001b[0;32m    159\u001b[0m \u001b[1;33m\u001b[0m\u001b[0m\n\u001b[0;32m    160\u001b[0m         \u001b[1;31m# Cast to correct ndim\u001b[0m\u001b[1;33m\u001b[0m\u001b[1;33m\u001b[0m\u001b[1;33m\u001b[0m\u001b[0m\n",
      "\u001b[1;32m~\\miniconda3\\envs\\wildcats_summer_env\\lib\\site-packages\\scipy\\stats\\_multivariate.py\u001b[0m in \u001b[0;36mpdf\u001b[1;34m(self, x, mean, cov, allow_singular)\u001b[0m\n\u001b[0;32m    523\u001b[0m         \u001b[0mdim\u001b[0m\u001b[1;33m,\u001b[0m \u001b[0mmean\u001b[0m\u001b[1;33m,\u001b[0m \u001b[0mcov\u001b[0m \u001b[1;33m=\u001b[0m \u001b[0mself\u001b[0m\u001b[1;33m.\u001b[0m\u001b[0m_process_parameters\u001b[0m\u001b[1;33m(\u001b[0m\u001b[1;32mNone\u001b[0m\u001b[1;33m,\u001b[0m \u001b[0mmean\u001b[0m\u001b[1;33m,\u001b[0m \u001b[0mcov\u001b[0m\u001b[1;33m)\u001b[0m\u001b[1;33m\u001b[0m\u001b[1;33m\u001b[0m\u001b[0m\n\u001b[0;32m    524\u001b[0m         \u001b[0mx\u001b[0m \u001b[1;33m=\u001b[0m \u001b[0mself\u001b[0m\u001b[1;33m.\u001b[0m\u001b[0m_process_quantiles\u001b[0m\u001b[1;33m(\u001b[0m\u001b[0mx\u001b[0m\u001b[1;33m,\u001b[0m \u001b[0mdim\u001b[0m\u001b[1;33m)\u001b[0m\u001b[1;33m\u001b[0m\u001b[1;33m\u001b[0m\u001b[0m\n\u001b[1;32m--> 525\u001b[1;33m         \u001b[0mpsd\u001b[0m \u001b[1;33m=\u001b[0m \u001b[0m_PSD\u001b[0m\u001b[1;33m(\u001b[0m\u001b[0mcov\u001b[0m\u001b[1;33m,\u001b[0m \u001b[0mallow_singular\u001b[0m\u001b[1;33m=\u001b[0m\u001b[0mallow_singular\u001b[0m\u001b[1;33m)\u001b[0m\u001b[1;33m\u001b[0m\u001b[1;33m\u001b[0m\u001b[0m\n\u001b[0m\u001b[0;32m    526\u001b[0m         \u001b[0mout\u001b[0m \u001b[1;33m=\u001b[0m \u001b[0mnp\u001b[0m\u001b[1;33m.\u001b[0m\u001b[0mexp\u001b[0m\u001b[1;33m(\u001b[0m\u001b[0mself\u001b[0m\u001b[1;33m.\u001b[0m\u001b[0m_logpdf\u001b[0m\u001b[1;33m(\u001b[0m\u001b[0mx\u001b[0m\u001b[1;33m,\u001b[0m \u001b[0mmean\u001b[0m\u001b[1;33m,\u001b[0m \u001b[0mpsd\u001b[0m\u001b[1;33m.\u001b[0m\u001b[0mU\u001b[0m\u001b[1;33m,\u001b[0m \u001b[0mpsd\u001b[0m\u001b[1;33m.\u001b[0m\u001b[0mlog_pdet\u001b[0m\u001b[1;33m,\u001b[0m \u001b[0mpsd\u001b[0m\u001b[1;33m.\u001b[0m\u001b[0mrank\u001b[0m\u001b[1;33m)\u001b[0m\u001b[1;33m)\u001b[0m\u001b[1;33m\u001b[0m\u001b[1;33m\u001b[0m\u001b[0m\n\u001b[0;32m    527\u001b[0m         \u001b[1;32mreturn\u001b[0m \u001b[0m_squeeze_output\u001b[0m\u001b[1;33m(\u001b[0m\u001b[0mout\u001b[0m\u001b[1;33m)\u001b[0m\u001b[1;33m\u001b[0m\u001b[1;33m\u001b[0m\u001b[0m\n",
      "\u001b[1;32m~\\miniconda3\\envs\\wildcats_summer_env\\lib\\site-packages\\scipy\\stats\\_multivariate.py\u001b[0m in \u001b[0;36m__init__\u001b[1;34m(self, M, cond, rcond, lower, check_finite, allow_singular)\u001b[0m\n\u001b[0;32m    163\u001b[0m         \u001b[0md\u001b[0m \u001b[1;33m=\u001b[0m \u001b[0ms\u001b[0m\u001b[1;33m[\u001b[0m\u001b[0ms\u001b[0m \u001b[1;33m>\u001b[0m \u001b[0meps\u001b[0m\u001b[1;33m]\u001b[0m\u001b[1;33m\u001b[0m\u001b[1;33m\u001b[0m\u001b[0m\n\u001b[0;32m    164\u001b[0m         \u001b[1;32mif\u001b[0m \u001b[0mlen\u001b[0m\u001b[1;33m(\u001b[0m\u001b[0md\u001b[0m\u001b[1;33m)\u001b[0m \u001b[1;33m<\u001b[0m \u001b[0mlen\u001b[0m\u001b[1;33m(\u001b[0m\u001b[0ms\u001b[0m\u001b[1;33m)\u001b[0m \u001b[1;32mand\u001b[0m \u001b[1;32mnot\u001b[0m \u001b[0mallow_singular\u001b[0m\u001b[1;33m:\u001b[0m\u001b[1;33m\u001b[0m\u001b[1;33m\u001b[0m\u001b[0m\n\u001b[1;32m--> 165\u001b[1;33m             \u001b[1;32mraise\u001b[0m \u001b[0mnp\u001b[0m\u001b[1;33m.\u001b[0m\u001b[0mlinalg\u001b[0m\u001b[1;33m.\u001b[0m\u001b[0mLinAlgError\u001b[0m\u001b[1;33m(\u001b[0m\u001b[1;34m'singular matrix'\u001b[0m\u001b[1;33m)\u001b[0m\u001b[1;33m\u001b[0m\u001b[1;33m\u001b[0m\u001b[0m\n\u001b[0m\u001b[0;32m    166\u001b[0m         \u001b[0ms_pinv\u001b[0m \u001b[1;33m=\u001b[0m \u001b[0m_pinv_1d\u001b[0m\u001b[1;33m(\u001b[0m\u001b[0ms\u001b[0m\u001b[1;33m,\u001b[0m \u001b[0meps\u001b[0m\u001b[1;33m)\u001b[0m\u001b[1;33m\u001b[0m\u001b[1;33m\u001b[0m\u001b[0m\n\u001b[0;32m    167\u001b[0m         \u001b[0mU\u001b[0m \u001b[1;33m=\u001b[0m \u001b[0mnp\u001b[0m\u001b[1;33m.\u001b[0m\u001b[0mmultiply\u001b[0m\u001b[1;33m(\u001b[0m\u001b[0mu\u001b[0m\u001b[1;33m,\u001b[0m \u001b[0mnp\u001b[0m\u001b[1;33m.\u001b[0m\u001b[0msqrt\u001b[0m\u001b[1;33m(\u001b[0m\u001b[0ms_pinv\u001b[0m\u001b[1;33m)\u001b[0m\u001b[1;33m)\u001b[0m\u001b[1;33m\u001b[0m\u001b[1;33m\u001b[0m\u001b[0m\n",
      "\u001b[1;31mLinAlgError\u001b[0m: singular matrix"
     ]
    }
   ],
   "source": [
    "N = 1000\n",
    "schedule = [0.7, 0.3, 0.05]\n",
    "%time result_smc = smc.sample(N, schedule)"
   ]
  },
  {
   "cell_type": "code",
   "execution_count": 6,
   "metadata": {},
   "outputs": [
    {
     "ename": "NameError",
     "evalue": "name 'result_smc' is not defined",
     "output_type": "error",
     "traceback": [
      "\u001b[1;31m---------------------------------------------------------------------------\u001b[0m",
      "\u001b[1;31mNameError\u001b[0m                                 Traceback (most recent call last)",
      "\u001b[1;32m<ipython-input-6-0d434f3395ab>\u001b[0m in \u001b[0;36m<module>\u001b[1;34m\u001b[0m\n\u001b[0;32m      3\u001b[0m \u001b[0mfig\u001b[0m\u001b[1;33m,\u001b[0m \u001b[0max\u001b[0m \u001b[1;33m=\u001b[0m \u001b[0mplt\u001b[0m\u001b[1;33m.\u001b[0m\u001b[0msubplots\u001b[0m\u001b[1;33m(\u001b[0m\u001b[0mncols\u001b[0m\u001b[1;33m=\u001b[0m\u001b[0mn_populations\u001b[0m\u001b[1;33m,\u001b[0m \u001b[0msharex\u001b[0m\u001b[1;33m=\u001b[0m\u001b[1;32mTrue\u001b[0m\u001b[1;33m,\u001b[0m \u001b[0msharey\u001b[0m\u001b[1;33m=\u001b[0m\u001b[1;32mTrue\u001b[0m\u001b[1;33m,\u001b[0m \u001b[0mfigsize\u001b[0m\u001b[1;33m=\u001b[0m\u001b[1;33m(\u001b[0m\u001b[1;36m16\u001b[0m\u001b[1;33m,\u001b[0m\u001b[1;36m6\u001b[0m\u001b[1;33m)\u001b[0m\u001b[1;33m)\u001b[0m\u001b[1;33m\u001b[0m\u001b[1;33m\u001b[0m\u001b[0m\n\u001b[0;32m      4\u001b[0m \u001b[1;33m\u001b[0m\u001b[0m\n\u001b[1;32m----> 5\u001b[1;33m \u001b[1;32mfor\u001b[0m \u001b[0mi\u001b[0m\u001b[1;33m,\u001b[0m \u001b[0mpop\u001b[0m \u001b[1;32min\u001b[0m \u001b[0menumerate\u001b[0m\u001b[1;33m(\u001b[0m\u001b[0mresult_smc\u001b[0m\u001b[1;33m.\u001b[0m\u001b[0mpopulations\u001b[0m\u001b[1;33m)\u001b[0m\u001b[1;33m:\u001b[0m\u001b[1;33m\u001b[0m\u001b[1;33m\u001b[0m\u001b[0m\n\u001b[0m\u001b[0;32m      6\u001b[0m     \u001b[0ms\u001b[0m \u001b[1;33m=\u001b[0m \u001b[0mpop\u001b[0m\u001b[1;33m.\u001b[0m\u001b[0msamples\u001b[0m\u001b[1;33m\u001b[0m\u001b[1;33m\u001b[0m\u001b[0m\n\u001b[0;32m      7\u001b[0m     \u001b[0max\u001b[0m\u001b[1;33m[\u001b[0m\u001b[0mi\u001b[0m\u001b[1;33m]\u001b[0m\u001b[1;33m.\u001b[0m\u001b[0mscatter\u001b[0m\u001b[1;33m(\u001b[0m\u001b[0ms\u001b[0m\u001b[1;33m[\u001b[0m\u001b[1;34m't1'\u001b[0m\u001b[1;33m]\u001b[0m\u001b[1;33m,\u001b[0m \u001b[0ms\u001b[0m\u001b[1;33m[\u001b[0m\u001b[1;34m't2'\u001b[0m\u001b[1;33m]\u001b[0m\u001b[1;33m,\u001b[0m \u001b[0ms\u001b[0m\u001b[1;33m=\u001b[0m\u001b[1;36m5\u001b[0m\u001b[1;33m,\u001b[0m \u001b[0medgecolor\u001b[0m\u001b[1;33m=\u001b[0m\u001b[1;34m'none'\u001b[0m\u001b[1;33m)\u001b[0m\u001b[1;33m;\u001b[0m\u001b[1;33m\u001b[0m\u001b[1;33m\u001b[0m\u001b[0m\n",
      "\u001b[1;31mNameError\u001b[0m: name 'result_smc' is not defined"
     ]
    },
    {
     "data": {
      "image/png": "[encoded data removed]",
      "text/plain": [
       "<Figure size 1152x432 with 3 Axes>"
      ]
     },
     "metadata": {
      "needs_background": "light"
     },
     "output_type": "display_data"
    }
   ],
   "source": [
    "import matplotlib.pyplot as plt\n",
    "n_populations = len(schedule)\n",
    "fig, ax = plt.subplots(ncols=n_populations, sharex=True, sharey=True, figsize=(16,6))\n",
    "\n",
    "for i, pop in enumerate(result_smc.populations):\n",
    "    s = pop.samples\n",
    "    ax[i].scatter(s['t1'], s['t2'], s=5, edgecolor='none');\n",
    "    ax[i].set_title(\"Population {}\".format(i));\n",
    "    ax[i].plot([0, 2, -2, 0], [-1, 1, 1, -1], 'b')\n",
    "    ax[i].set_xlabel('t1');\n",
    "ax[0].set_ylabel('t2');\n",
    "#ax[0].set_xlim([-2, 2])\n",
    "#ax[0].set_ylim([-1, 1]);"
   ]
  }
 ],
 "metadata": {
  "kernelspec": {
   "display_name": "Python 3",
   "language": "python",
   "name": "python3"
  },
  "language_info": {
   "codemirror_mode": {
    "name": "ipython",
    "version": 3
   },
   "file_extension": ".py",
   "mimetype": "text/x-python",
   "name": "python",
   "nbconvert_exporter": "python",
   "pygments_lexer": "ipython3",
   "version": "3.7.7"
  }
 },
 "nbformat": 4,
 "nbformat_minor": 4
}
